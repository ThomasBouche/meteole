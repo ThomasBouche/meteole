{
 "cells": [
  {
   "cell_type": "markdown",
   "metadata": {},
   "source": [
    "# Fetch Forecasts\n",
    "Welcome to this tutorial! In this notebook, we will see how to retrieve forecasts from ensemble models, such as PEAROME.\n",
    "In these models, a set (or ensemble) of forecasts is produced. Each forecast is achieved with the same numeric model (AROME for PEAROME), but with slightly different initialization parameters. This set of forecasts aims to give an indication of the range of possible weather conditions. Thus it gives a probabilistic approach of the weather forecast.\n",
    "PEAROME produces a set of 25 members, so 25 possible scenarios for each of its available indicator.\n",
    "\n",
    "\n",
    "We will cover the following cases:\n",
    "- Retrieving data of a determinist model and a ensemble model\n",
    "- For a single run date\n",
    "- Specifying the \"interval\" parameter for each indicator\n",
    "- Specifying the \"forecast_horizon\" parameter\n",
    "- Specifying the \"heights\" or \"pressures\" parameters for each indicator\n",
    "\n"
   ]
  },
  {
   "cell_type": "code",
   "execution_count": 2,
   "metadata": {},
   "outputs": [],
   "source": [
    "import pandas as pd\n",
    "import matplotlib.pyplot as plt\n",
    "from meteole import AromeForecast, AromePEForecast  # or ArpegeForecast, PiafForecast, AromePIForecast"
   ]
  },
  {
   "cell_type": "code",
   "execution_count": 2,
   "metadata": {},
   "outputs": [],
   "source": [
    "import logging\n",
    "\n",
    "logging.basicConfig(level=logging.INFO)\n",
    "logger = logging.getLogger(\"meteole\")"
   ]
  },
  {
   "cell_type": "markdown",
   "metadata": {},
   "source": [
    "**Requirements notice** : TODO Link to the documentation to have application_id"
   ]
  },
  {
   "cell_type": "code",
   "execution_count": 3,
   "metadata": {},
   "outputs": [],
   "source": [
    "APP_ID = \"TO BE SET\""
   ]
  },
  {
   "cell_type": "markdown",
   "metadata": {},
   "source": [
    "## Init Client"
   ]
  },
  {
   "cell_type": "code",
   "execution_count": 4,
   "metadata": {},
   "outputs": [],
   "source": [
    "# init client\n",
    "arome_client = AromeForecast(application_id=APP_ID)  \n",
    "pearome_client = AromePEForecast(application_id=APP_ID)  "
   ]
  },
  {
   "cell_type": "code",
   "execution_count": 5,
   "metadata": {},
   "outputs": [
    {
     "data": {
      "text/plain": [
       "['GEOMETRIC_HEIGHT__GROUND_OR_WATER_SURFACE',\n",
       " 'BRIGHTNESS_TEMPERATURE__GROUND_OR_WATER_SURFACE',\n",
       " 'CONVECTIVE_AVAILABLE_POTENTIAL_ENERGY__GROUND_OR_WATER_SURFACE',\n",
       " 'WIND_SPEED_GUST__SPECIFIC_HEIGHT_LEVEL_ABOVE_GROUND',\n",
       " 'WIND_SPEED__SPECIFIC_HEIGHT_LEVEL_ABOVE_GROUND',\n",
       " 'RELATIVE_HUMIDITY__SPECIFIC_HEIGHT_LEVEL_ABOVE_GROUND',\n",
       " 'LOW_CLOUD_COVER__GROUND_OR_WATER_SURFACE',\n",
       " 'HIGH_CLOUD_COVER__GROUND_OR_WATER_SURFACE',\n",
       " 'MEDIUM_CLOUD_COVER__GROUND_OR_WATER_SURFACE',\n",
       " 'PRESSURE__GROUND_OR_WATER_SURFACE',\n",
       " 'TOTAL_PRECIPITATION_RATE__GROUND_OR_WATER_SURFACE',\n",
       " 'TEMPERATURE__SPECIFIC_HEIGHT_LEVEL_ABOVE_GROUND',\n",
       " 'U_COMPONENT_OF_WIND_GUST__SPECIFIC_HEIGHT_LEVEL_ABOVE_GROUND',\n",
       " 'U_COMPONENT_OF_WIND__SPECIFIC_HEIGHT_LEVEL_ABOVE_GROUND',\n",
       " 'V_COMPONENT_OF_WIND_GUST__SPECIFIC_HEIGHT_LEVEL_ABOVE_GROUND',\n",
       " 'V_COMPONENT_OF_WIND__SPECIFIC_HEIGHT_LEVEL_ABOVE_GROUND',\n",
       " 'TOTAL_WATER_PRECIPITATION__GROUND_OR_WATER_SURFACE',\n",
       " 'TOTAL_SNOW_PRECIPITATION__GROUND_OR_WATER_SURFACE',\n",
       " 'TOTAL_PRECIPITATION__GROUND_OR_WATER_SURFACE']"
      ]
     },
     "execution_count": 5,
     "metadata": {},
     "output_type": "execute_result"
    }
   ],
   "source": [
    "# Available indicators for AROME\n",
    "arome_client.INDICATORS"
   ]
  },
  {
   "cell_type": "code",
   "execution_count": 6,
   "metadata": {},
   "outputs": [
    {
     "data": {
      "text/plain": [
       "['BRIGHTNESS_TEMPERATURE__GROUND_OR_WATER_SURFACE',\n",
       " 'BRIGHTNESS_TEMPERATURE_CHANNEL62__GROUND_OR_WATER_SURFACE',\n",
       " 'INHIBITION_CONVECTIVE__GROUND_OR_WATER_SURFACE',\n",
       " 'TOTAL_WATER_VAPOUR__GROUND_OR_WATER_SURFACE',\n",
       " 'RELATIVE_DIVERGENCE__ISOBARIC_SURFACE',\n",
       " 'RELATIVE_HUMIDITY__SPECIFIC_HEIGHT_LEVEL_ABOVE_GROUND',\n",
       " 'RELATIVE_HUMIDITY__ISOBARIC_SURFACE',\n",
       " 'LOW_CLOUD_COVER__GROUND_OR_WATER_SURFACE',\n",
       " 'PRECIPITATION_TYPE_MOST_SEVERE__GROUND_OR_WATER_SURFACE',\n",
       " 'PRECIPITATION_TYPE__GROUND_OR_WATER_SURFACE',\n",
       " 'PRESSURE__MEAN_SEA_LEVEL',\n",
       " 'REFLECTIVITY_MAXIMUM__GROUND_OR_WATER_SURFACE',\n",
       " 'REFLECTIVITY_DBZ__ISOBARIC_SURFACE',\n",
       " 'MAXIMUM_TEMPERATURE__SPECIFIC_HEIGHT_LEVEL_ABOVE_GROUND',\n",
       " 'MINIMUM_TEMPERATURE__SPECIFIC_HEIGHT_LEVEL_ABOVE_GROUND',\n",
       " 'PSEUDO_ADIABATIC_POTENTIAL_TEMPERATURE__ISOBARIC_SURFACE',\n",
       " 'TEMPERATURE__GROUND_OR_WATER_SURFACE',\n",
       " 'TEMPERATURE__SPECIFIC_HEIGHT_LEVEL_ABOVE_GROUND',\n",
       " 'TEMPERATURE__ISOBARIC_SURFACE',\n",
       " 'U_COMPONENT_OF_WIND_GUST__SPECIFIC_HEIGHT_LEVEL_ABOVE_GROUND',\n",
       " 'U_COMPONENT_OF_WIND__SPECIFIC_HEIGHT_LEVEL_ABOVE_GROUND',\n",
       " 'MINIMUM_VISIBILITY_PRECIPITATING_HYDROMETEORS__GROUND_OR_WATER_SURFACE',\n",
       " 'MINIMUM_VISIBILITY_NON_PRECIPITATING_HYDROMETEORS__GROUND_OR_WATER_SURFACE',\n",
       " 'VERTICAL_VELOCITY_PRESSURE__ISOBARIC_SURFACE',\n",
       " 'V_COMPONENT_OF_WIND_GUST__SPECIFIC_HEIGHT_LEVEL_ABOVE_GROUND',\n",
       " 'V_COMPONENT_OF_WIND__SPECIFIC_HEIGHT_LEVEL_ABOVE_GROUND',\n",
       " 'GEOPOTENTIAL__ISOBARIC_SURFACE',\n",
       " 'TOTAL_WATER_PRECIPITATION__GROUND_OR_WATER_SURFACE',\n",
       " 'TOTAL_GRAUPEL_PRECIPITATION__GROUND_OR_WATER_SURFACE',\n",
       " 'LIGHTNING_DENSITY_CUMULATED__GROUND_OR_WATER_SURFACE',\n",
       " 'TOTAL_SNOW_PRECIPITATION__GROUND_OR_WATER_SURFACE',\n",
       " 'TOTAL_PRECIPITATION__GROUND_OR_WATER_SURFACE']"
      ]
     },
     "execution_count": 6,
     "metadata": {},
     "output_type": "execute_result"
    }
   ],
   "source": [
    "# Available indicators for PEAROME\n",
    "pearome_client.INDICATORS"
   ]
  },
  {
   "cell_type": "code",
   "execution_count": 7,
   "metadata": {},
   "outputs": [],
   "source": [
    "# pick a indicator\n",
    "indicator = \"TEMPERATURE__SPECIFIC_HEIGHT_LEVEL_ABOVE_GROUND\""
   ]
  },
  {
   "cell_type": "markdown",
   "metadata": {},
   "source": [
    "### Get parameters\n",
    "\n",
    "If you want to select the different parameters available, you can retrieve them using the `get_capabilities` and `get_coverage_description`.\n"
   ]
  },
  {
   "cell_type": "code",
   "execution_count": 8,
   "metadata": {},
   "outputs": [
    {
     "name": "stderr",
     "output_type": "stream",
     "text": [
      "INFO:meteole.forecast:Fetching all available coverages...\n",
      "INFO:meteole.forecast:\n",
      "\t Successfully fetched 5610 coverages,\n",
      "\t representing 46 different indicators,\n",
      "\t across the last 34 runs (from 2025-09-17T00.00.00Z to 2025-09-21T03.00.00Z)\n",
      "\n",
      "\t Default run for `get_coverage`: 2025-09-21T03.00.00Z)\n",
      "INFO:meteole.clients:Token expired, requesting a new one\n",
      "INFO:meteole.clients:Retrying (attempt 1/10) - waiting 10s before retrying...\n"
     ]
    },
    {
     "name": "stdout",
     "output_type": "stream",
     "text": [
      "{'forecast_horizons': [datetime.timedelta(0), datetime.timedelta(seconds=3600), datetime.timedelta(seconds=7200), datetime.timedelta(seconds=10800), datetime.timedelta(seconds=14400), datetime.timedelta(seconds=18000), datetime.timedelta(seconds=21600), datetime.timedelta(seconds=25200), datetime.timedelta(seconds=28800), datetime.timedelta(seconds=32400), datetime.timedelta(seconds=36000), datetime.timedelta(seconds=39600), datetime.timedelta(seconds=43200), datetime.timedelta(seconds=46800), datetime.timedelta(seconds=50400), datetime.timedelta(seconds=54000), datetime.timedelta(seconds=57600), datetime.timedelta(seconds=61200), datetime.timedelta(seconds=64800), datetime.timedelta(seconds=68400), datetime.timedelta(seconds=72000), datetime.timedelta(seconds=75600), datetime.timedelta(seconds=79200), datetime.timedelta(seconds=82800), datetime.timedelta(days=1), datetime.timedelta(days=1, seconds=3600), datetime.timedelta(days=1, seconds=7200), datetime.timedelta(days=1, seconds=10800), datetime.timedelta(days=1, seconds=14400), datetime.timedelta(days=1, seconds=18000), datetime.timedelta(days=1, seconds=21600), datetime.timedelta(days=1, seconds=25200), datetime.timedelta(days=1, seconds=28800), datetime.timedelta(days=1, seconds=32400), datetime.timedelta(days=1, seconds=36000), datetime.timedelta(days=1, seconds=39600), datetime.timedelta(days=1, seconds=43200), datetime.timedelta(days=1, seconds=46800), datetime.timedelta(days=1, seconds=50400), datetime.timedelta(days=1, seconds=54000), datetime.timedelta(days=1, seconds=57600), datetime.timedelta(days=1, seconds=61200), datetime.timedelta(days=1, seconds=64800), datetime.timedelta(days=1, seconds=68400), datetime.timedelta(days=1, seconds=72000), datetime.timedelta(days=1, seconds=75600), datetime.timedelta(days=1, seconds=79200), datetime.timedelta(days=1, seconds=82800), datetime.timedelta(days=2), datetime.timedelta(days=2, seconds=3600), datetime.timedelta(days=2, seconds=7200), datetime.timedelta(days=2, seconds=10800)], 'heights': [2], 'pressures': []}\n"
     ]
    }
   ],
   "source": [
    "# get all the capabilities of the model\n",
    "aro_capabilities = arome_client.get_capabilities()\n",
    "\n",
    "# select one run, the most recent for example\n",
    "most_recent_run_aro = pd.to_datetime(aro_capabilities['run'].max(), format=\"%Y-%m-%dT%H.%M.%SZ\")\n",
    "\n",
    "# get the coverage description for this indicator and this run\n",
    "aro_cov_descr = arome_client.get_coverage_description(indicator + \"___\" + most_recent_run_aro.strftime(\"%Y-%m-%dT%H.%M.%SZ\"))\n",
    "\n",
    "print(aro_cov_descr)"
   ]
  },
  {
   "cell_type": "markdown",
   "metadata": {},
   "source": [
    "### Fetch data using params of your choice"
   ]
  },
  {
   "cell_type": "code",
   "execution_count": 9,
   "metadata": {},
   "outputs": [
    {
     "name": "stderr",
     "output_type": "stream",
     "text": [
      "INFO:meteole.forecast:Using latest `run=2025-09-21T03.00.00Z`.\n",
      "INFO:meteole.forecast:Using `coverage_id=TEMPERATURE__SPECIFIC_HEIGHT_LEVEL_ABOVE_GROUND___2025-09-21T03.00.00Z`\n",
      "INFO:meteole.clients:Retrying (attempt 1/10) - waiting 10s before retrying...\n"
     ]
    },
    {
     "name": "stdout",
     "output_type": "stream",
     "text": [
      "   latitude  longitude                 run forecast_horizon        t_2m\n",
      "0      43.5       1.00 2025-09-21 03:00:00           0 days  288.974213\n",
      "1      43.5       1.01 2025-09-21 03:00:00           0 days  288.960541\n",
      "2      43.5       1.02 2025-09-21 03:00:00           0 days  289.138275\n",
      "3      43.5       1.03 2025-09-21 03:00:00           0 days  289.207611\n",
      "4      43.5       1.04 2025-09-21 03:00:00           0 days  289.050385\n"
     ]
    }
   ],
   "source": [
    "# Get for the AROME model, the forecast of Temperature at 2 meters for 24 first available forecast horizons\n",
    "df_arome = arome_client.get_coverage(\n",
    "             indicator=indicator,\n",
    "             interval=None,                                                           \n",
    "             forecast_horizons=aro_cov_descr[\"forecast_horizons\"],            \n",
    "             heights=[2],                                                             \n",
    "             pressures=None,                                                            \n",
    "             long = (1.0, 1.5),                                                 \n",
    "             lat = (43, 43.5),                                                                                                          \n",
    "             temp_dir=None,                                                          \n",
    "         )\n",
    "print(df_arome.head())"
   ]
  },
  {
   "cell_type": "code",
   "execution_count": 10,
   "metadata": {},
   "outputs": [
    {
     "name": "stderr",
     "output_type": "stream",
     "text": [
      "INFO:meteole.forecast:Fetching all available coverages...\n",
      "INFO:meteole.forecast:\n",
      "\t Successfully fetched 1530 coverages,\n",
      "\t representing 32 different indicators,\n",
      "\t across the last 17 runs (from 2025-09-17T03.00.00Z to 2025-09-21T03.00.00Z)\n",
      "\n",
      "\t Default run for `get_coverage`: 2025-09-21T03.00.00Z)\n"
     ]
    },
    {
     "name": "stdout",
     "output_type": "stream",
     "text": [
      "{'forecast_horizons': [datetime.timedelta(0), datetime.timedelta(seconds=3600), datetime.timedelta(seconds=7200), datetime.timedelta(seconds=10800), datetime.timedelta(seconds=14400), datetime.timedelta(seconds=18000), datetime.timedelta(seconds=21600), datetime.timedelta(seconds=25200), datetime.timedelta(seconds=28800), datetime.timedelta(seconds=32400), datetime.timedelta(seconds=36000), datetime.timedelta(seconds=39600), datetime.timedelta(seconds=43200), datetime.timedelta(seconds=46800), datetime.timedelta(seconds=50400), datetime.timedelta(seconds=54000), datetime.timedelta(seconds=57600), datetime.timedelta(seconds=61200), datetime.timedelta(seconds=64800), datetime.timedelta(seconds=68400), datetime.timedelta(seconds=72000), datetime.timedelta(seconds=75600), datetime.timedelta(seconds=79200), datetime.timedelta(seconds=82800), datetime.timedelta(days=1), datetime.timedelta(days=1, seconds=3600), datetime.timedelta(days=1, seconds=7200), datetime.timedelta(days=1, seconds=10800), datetime.timedelta(days=1, seconds=14400), datetime.timedelta(days=1, seconds=18000), datetime.timedelta(days=1, seconds=21600), datetime.timedelta(days=1, seconds=25200), datetime.timedelta(days=1, seconds=28800), datetime.timedelta(days=1, seconds=32400), datetime.timedelta(days=1, seconds=36000), datetime.timedelta(days=1, seconds=39600), datetime.timedelta(days=1, seconds=43200), datetime.timedelta(days=1, seconds=46800), datetime.timedelta(days=1, seconds=50400), datetime.timedelta(days=1, seconds=54000), datetime.timedelta(days=1, seconds=57600), datetime.timedelta(days=1, seconds=61200), datetime.timedelta(days=1, seconds=64800), datetime.timedelta(days=1, seconds=68400), datetime.timedelta(days=1, seconds=72000), datetime.timedelta(days=1, seconds=75600), datetime.timedelta(days=1, seconds=79200), datetime.timedelta(days=1, seconds=82800), datetime.timedelta(days=2), datetime.timedelta(days=2, seconds=3600), datetime.timedelta(days=2, seconds=7200), datetime.timedelta(days=2, seconds=10800)], 'heights': [2, 3000], 'pressures': []}\n"
     ]
    }
   ],
   "source": [
    "# Same for PEAROME\n",
    "# get all the capabilities of the model\n",
    "pearo_capabilities = pearome_client.get_capabilities()\n",
    "\n",
    "# select one run, the most recent for example\n",
    "most_recent_run_pearo = pd.to_datetime(pearo_capabilities['run'].max(), format=\"%Y-%m-%dT%H.%M.%SZ\")\n",
    "\n",
    "# get the coverage description for this indicator and this run\n",
    "pearo_cov_descr = pearome_client.get_coverage_description(indicator + \"___\" + most_recent_run_pearo.strftime(\"%Y-%m-%dT%H.%M.%SZ\"))\n",
    "\n",
    "print(pearo_cov_descr)"
   ]
  },
  {
   "cell_type": "code",
   "execution_count": 11,
   "metadata": {},
   "outputs": [
    {
     "name": "stdout",
     "output_type": "stream",
     "text": [
      "{'number_0': {'forecast_horizons': [datetime.timedelta(0), datetime.timedelta(seconds=3600), datetime.timedelta(seconds=7200), datetime.timedelta(seconds=10800), datetime.timedelta(seconds=14400), datetime.timedelta(seconds=18000), datetime.timedelta(seconds=21600), datetime.timedelta(seconds=25200), datetime.timedelta(seconds=28800), datetime.timedelta(seconds=32400), datetime.timedelta(seconds=36000), datetime.timedelta(seconds=39600), datetime.timedelta(seconds=43200), datetime.timedelta(seconds=46800), datetime.timedelta(seconds=50400), datetime.timedelta(seconds=54000), datetime.timedelta(seconds=57600), datetime.timedelta(seconds=61200), datetime.timedelta(seconds=64800), datetime.timedelta(seconds=68400), datetime.timedelta(seconds=72000), datetime.timedelta(seconds=75600), datetime.timedelta(seconds=79200), datetime.timedelta(seconds=82800), datetime.timedelta(days=1), datetime.timedelta(days=1, seconds=3600), datetime.timedelta(days=1, seconds=7200), datetime.timedelta(days=1, seconds=10800), datetime.timedelta(days=1, seconds=14400), datetime.timedelta(days=1, seconds=18000), datetime.timedelta(days=1, seconds=21600), datetime.timedelta(days=1, seconds=25200), datetime.timedelta(days=1, seconds=28800), datetime.timedelta(days=1, seconds=32400), datetime.timedelta(days=1, seconds=36000), datetime.timedelta(days=1, seconds=39600), datetime.timedelta(days=1, seconds=43200), datetime.timedelta(days=1, seconds=46800), datetime.timedelta(days=1, seconds=50400), datetime.timedelta(days=1, seconds=54000), datetime.timedelta(days=1, seconds=57600), datetime.timedelta(days=1, seconds=61200), datetime.timedelta(days=1, seconds=64800), datetime.timedelta(days=1, seconds=68400), datetime.timedelta(days=1, seconds=72000), datetime.timedelta(days=1, seconds=75600), datetime.timedelta(days=1, seconds=79200), datetime.timedelta(days=1, seconds=82800), datetime.timedelta(days=2), datetime.timedelta(days=2, seconds=3600), datetime.timedelta(days=2, seconds=7200), datetime.timedelta(days=2, seconds=10800)], 'heights': [2, 3000], 'pressures': []}, 'number_1': {'forecast_horizons': [datetime.timedelta(0), datetime.timedelta(seconds=3600), datetime.timedelta(seconds=7200), datetime.timedelta(seconds=10800), datetime.timedelta(seconds=14400), datetime.timedelta(seconds=18000), datetime.timedelta(seconds=21600), datetime.timedelta(seconds=25200), datetime.timedelta(seconds=28800), datetime.timedelta(seconds=32400), datetime.timedelta(seconds=36000), datetime.timedelta(seconds=39600), datetime.timedelta(seconds=43200), datetime.timedelta(seconds=46800), datetime.timedelta(seconds=50400), datetime.timedelta(seconds=54000), datetime.timedelta(seconds=57600), datetime.timedelta(seconds=61200), datetime.timedelta(seconds=64800), datetime.timedelta(seconds=68400), datetime.timedelta(seconds=72000), datetime.timedelta(seconds=75600), datetime.timedelta(seconds=79200), datetime.timedelta(seconds=82800), datetime.timedelta(days=1), datetime.timedelta(days=1, seconds=3600), datetime.timedelta(days=1, seconds=7200), datetime.timedelta(days=1, seconds=10800), datetime.timedelta(days=1, seconds=14400), datetime.timedelta(days=1, seconds=18000), datetime.timedelta(days=1, seconds=21600), datetime.timedelta(days=1, seconds=25200), datetime.timedelta(days=1, seconds=28800), datetime.timedelta(days=1, seconds=32400), datetime.timedelta(days=1, seconds=36000), datetime.timedelta(days=1, seconds=39600), datetime.timedelta(days=1, seconds=43200), datetime.timedelta(days=1, seconds=46800), datetime.timedelta(days=1, seconds=50400), datetime.timedelta(days=1, seconds=54000), datetime.timedelta(days=1, seconds=57600), datetime.timedelta(days=1, seconds=61200), datetime.timedelta(days=1, seconds=64800), datetime.timedelta(days=1, seconds=68400), datetime.timedelta(days=1, seconds=72000), datetime.timedelta(days=1, seconds=75600), datetime.timedelta(days=1, seconds=79200), datetime.timedelta(days=1, seconds=82800), datetime.timedelta(days=2), datetime.timedelta(days=2, seconds=3600), datetime.timedelta(days=2, seconds=7200), datetime.timedelta(days=2, seconds=10800)], 'heights': [2, 3000], 'pressures': []}, 'number_2': {'forecast_horizons': [datetime.timedelta(0), datetime.timedelta(seconds=3600), datetime.timedelta(seconds=7200), datetime.timedelta(seconds=10800), datetime.timedelta(seconds=14400), datetime.timedelta(seconds=18000), datetime.timedelta(seconds=21600), datetime.timedelta(seconds=25200), datetime.timedelta(seconds=28800), datetime.timedelta(seconds=32400), datetime.timedelta(seconds=36000), datetime.timedelta(seconds=39600), datetime.timedelta(seconds=43200), datetime.timedelta(seconds=46800), datetime.timedelta(seconds=50400), datetime.timedelta(seconds=54000), datetime.timedelta(seconds=57600), datetime.timedelta(seconds=61200), datetime.timedelta(seconds=64800), datetime.timedelta(seconds=68400), datetime.timedelta(seconds=72000), datetime.timedelta(seconds=75600), datetime.timedelta(seconds=79200), datetime.timedelta(seconds=82800), datetime.timedelta(days=1), datetime.timedelta(days=1, seconds=3600), datetime.timedelta(days=1, seconds=7200), datetime.timedelta(days=1, seconds=10800), datetime.timedelta(days=1, seconds=14400), datetime.timedelta(days=1, seconds=18000), datetime.timedelta(days=1, seconds=21600), datetime.timedelta(days=1, seconds=25200), datetime.timedelta(days=1, seconds=28800), datetime.timedelta(days=1, seconds=32400), datetime.timedelta(days=1, seconds=36000), datetime.timedelta(days=1, seconds=39600), datetime.timedelta(days=1, seconds=43200), datetime.timedelta(days=1, seconds=46800), datetime.timedelta(days=1, seconds=50400), datetime.timedelta(days=1, seconds=54000), datetime.timedelta(days=1, seconds=57600), datetime.timedelta(days=1, seconds=61200), datetime.timedelta(days=1, seconds=64800), datetime.timedelta(days=1, seconds=68400), datetime.timedelta(days=1, seconds=72000), datetime.timedelta(days=1, seconds=75600), datetime.timedelta(days=1, seconds=79200), datetime.timedelta(days=1, seconds=82800), datetime.timedelta(days=2), datetime.timedelta(days=2, seconds=3600), datetime.timedelta(days=2, seconds=7200), datetime.timedelta(days=2, seconds=10800)], 'heights': [2, 3000], 'pressures': []}}\n"
     ]
    }
   ],
   "source": [
    "# For the PEArome, get_coverage_description retrieve the description available for the member 0 by default. \n",
    "# However, it is possible to specify several members to compare the description of each member.\n",
    "# It can be useful when the forecast horizons are not all the same accross members \n",
    "# (it can happen when the model is being updated.)\n",
    "pearo_cov_descr_mult = pearome_client.get_coverage_description(indicator + \"___\" + \n",
    "                                                               most_recent_run_pearo.strftime(\"%Y-%m-%dT%H.%M.%SZ\"),\n",
    "                                                              ensemble_numbers=[0,1,2])\n",
    "\n",
    "print(pearo_cov_descr_mult)"
   ]
  },
  {
   "cell_type": "code",
   "execution_count": 12,
   "metadata": {},
   "outputs": [
    {
     "name": "stderr",
     "output_type": "stream",
     "text": [
      "INFO:meteole.forecast:Using 5 ensemble members\n",
      "INFO:meteole.forecast:Using latest `run=2025-09-21T03.00.00Z`.\n",
      "INFO:meteole.forecast:Using `coverage_id=TEMPERATURE__SPECIFIC_HEIGHT_LEVEL_ABOVE_GROUND___2025-09-21T03.00.00Z`\n"
     ]
    },
    {
     "name": "stdout",
     "output_type": "stream",
     "text": [
      "   latitude  longitude  ensemble_number                 run forecast_horizon  \\\n",
      "0      43.5      1.000                0 2025-09-21 03:00:00           0 days   \n",
      "1      43.5      1.025                0 2025-09-21 03:00:00           0 days   \n",
      "2      43.5      1.050                0 2025-09-21 03:00:00           0 days   \n",
      "3      43.5      1.075                0 2025-09-21 03:00:00           0 days   \n",
      "4      43.5      1.100                0 2025-09-21 03:00:00           0 days   \n",
      "\n",
      "         t_2m  \n",
      "0  288.921234  \n",
      "1  288.998383  \n",
      "2  288.896820  \n",
      "3  288.547211  \n",
      "4  288.433929  \n"
     ]
    }
   ],
   "source": [
    "# Get for the PEAROME model, the forecast of Temperature at 2 meters for 24 first available forecast horizons\n",
    "# For Ensemble models, the members (the numbers of each set of forecast) to retrieve must be specified \n",
    "# with the parameter ensemble_numbers (in this example, we retrieve the 5 first members).\n",
    "# PEAROME provides 25 members, from 0 to 24. Note that member 0 is the same as the AROME determinist model.\n",
    "df_pearome = pearome_client.get_coverage(\n",
    "             indicator=indicator,\n",
    "             interval=None,                                                           \n",
    "             forecast_horizons=pearo_cov_descr[\"forecast_horizons\"],  \n",
    "             ensemble_numbers=range(5),\n",
    "             heights=[2],                                                             \n",
    "             pressures=None,                                                            \n",
    "             long = (1.0, 1.5),                                                 \n",
    "             lat = (43, 43.5),                                                                                                          \n",
    "             temp_dir=None,                                                          \n",
    "         )\n",
    "\n",
    "# Note that the resulting dataframe has a new column \"number\" identifying each member of the ensemble forecast.\n",
    "print(df_pearome.head())"
   ]
  },
  {
   "cell_type": "code",
   "execution_count": 13,
   "metadata": {},
   "outputs": [
    {
     "data": {
      "text/plain": [
       "<matplotlib.legend.Legend at 0x257f6020910>"
      ]
     },
     "execution_count": 13,
     "metadata": {},
     "output_type": "execute_result"
    },
    {
     "data": {
      "image/png": "[encoded data removed]",
      "text/plain": [
       "<Figure size 432x288 with 1 Axes>"
      ]
     },
     "metadata": {
      "needs_background": "light"
     },
     "output_type": "display_data"
    }
   ],
   "source": [
    "# Illustration by plotting each member of the PEAROME model (thin lines), \n",
    "# along with the single forecast of AROME model (dotted line)\n",
    "# for a given location.\n",
    "lat = 43\n",
    "lon = 1\n",
    "\n",
    "df_arome_single_loc = df_arome.loc[(df_arome[\"latitude\"].round(2) == lat) & (df_arome[\"longitude\"].round(2) == lon)].copy()\n",
    "df_arome_single_loc.index = df_arome_single_loc['run'] + df_arome_single_loc['forecast_horizon']\n",
    "df_pearome_single_loc = df_pearome.loc[(df_pearome[\"latitude\"].round(2) == lat) & (df_pearome[\"longitude\"].round(2) == lon)].copy()\n",
    "df_pearome_single_loc['validity_time'] = (df_pearome_single_loc['run'] + df_pearome_single_loc['forecast_horizon'])\n",
    "\n",
    "# reshape the result to have one column per member\n",
    "reshaped_df = df_pearome_single_loc.pivot(index='validity_time', columns='ensemble_number', values='t_2m')\n",
    "reshaped_df.columns = [f\"PEAro_n_{int(col)}\" for col in reshaped_df.columns]\n",
    "\n",
    "reshaped_df.plot(linewidth=0.5)\n",
    "df_arome_single_loc['t_2m'].plot(linewidth=2, linestyle=\"--\", label=\"Arome\") \n",
    "plt.legend()"
   ]
  }
 ],
 "metadata": {
  "kernelspec": {
   "display_name": "Python 3",
   "language": "python",
   "name": "python3"
  },
  "language_info": {
   "codemirror_mode": {
    "name": "ipython",
    "version": 3
   },
   "file_extension": ".py",
   "mimetype": "text/x-python",
   "name": "python",
   "nbconvert_exporter": "python",
   "pygments_lexer": "ipython3",
   "version": "3.9.1"
  },
  "toc": {
   "base_numbering": 1,
   "nav_menu": {},
   "number_sections": true,
   "sideBar": true,
   "skip_h1_title": false,
   "title_cell": "Table of Contents",
   "title_sidebar": "Contents",
   "toc_cell": false,
   "toc_position": {},
   "toc_section_display": true,
   "toc_window_display": false
  }
 },
 "nbformat": 4,
 "nbformat_minor": 2
}
