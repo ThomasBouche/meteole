{
 "cells": [
  {
   "cell_type": "markdown",
   "metadata": {},
   "source": [
    "# Fetch Forecasts\n",
    "Welcome to this tutorial! In this notebook, we will see how to retrieve forecasts from ensemble models, such as PEAROME.\n",
    "In these models, a set (or ensemble) of forecasts is produced. Each forecast is achieved with the same numeric model (AROME for PEAROME), but with slightly different initialization parameters. This set of forecasts aims to give an indication of the range of possible weather conditions. Thus it gives a probabilistic approach of the weather forecast.\n",
    "PEAROME produces a set of 25 members, so 25 possible scenarios for each of its available indicator.\n",
    "\n",
    "\n",
    "We will cover the following cases:\n",
    "- Retrieving data of a determinist model and a ensemble model\n",
    "- For a single run date\n",
    "- Specifying the \"interval\" parameter for each indicator\n",
    "- Specifying the \"forecast_horizon\" parameter\n",
    "- Specifying the \"heights\" or \"pressures\" parameters for each indicator\n",
    "\n"
   ]
  },
  {
   "cell_type": "code",
   "execution_count": null,
   "metadata": {},
   "outputs": [],
   "source": [
    "import matplotlib.pyplot as plt\n",
    "import pandas as pd\n",
    "\n",
    "from meteole import AromeForecast, AromePEForecast  # or ArpegeForecast, PiafForecast, AromePIForecast"
   ]
  },
  {
   "cell_type": "code",
   "execution_count": null,
   "metadata": {},
   "outputs": [],
   "source": [
    "import logging\n",
    "\n",
    "logging.basicConfig(level=logging.INFO)\n",
    "logger = logging.getLogger(\"meteole\")"
   ]
  },
  {
   "cell_type": "markdown",
   "metadata": {},
   "source": [
    "**Requirements notice** : TODO Link to the documentation to have application_id"
   ]
  },
  {
   "cell_type": "code",
   "execution_count": null,
   "metadata": {},
   "outputs": [],
   "source": [
    "APP_ID = \"TO BE SET\""
   ]
  },
  {
   "cell_type": "markdown",
   "metadata": {},
   "source": [
    "## Init Client"
   ]
  },
  {
   "cell_type": "code",
   "execution_count": null,
   "metadata": {},
   "outputs": [],
   "source": [
    "# init client\n",
    "arome_client = AromeForecast(application_id=APP_ID)\n",
    "pearome_client = AromePEForecast(application_id=APP_ID)"
   ]
  },
  {
   "cell_type": "code",
   "execution_count": null,
   "metadata": {},
   "outputs": [],
   "source": [
    "# Available indicators for AROME\n",
    "arome_client.INDICATORS"
   ]
  },
  {
   "cell_type": "code",
   "execution_count": null,
   "metadata": {},
   "outputs": [],
   "source": [
    "# Available indicators for PEAROME\n",
    "pearome_client.INDICATORS"
   ]
  },
  {
   "cell_type": "code",
   "execution_count": null,
   "metadata": {},
   "outputs": [],
   "source": [
    "# pick a indicator\n",
    "indicator = \"TEMPERATURE__SPECIFIC_HEIGHT_LEVEL_ABOVE_GROUND\""
   ]
  },
  {
   "cell_type": "markdown",
   "metadata": {},
   "source": [
    "### Get parameters\n",
    "\n",
    "If you want to select the different parameters available, you can retrieve them using the `get_capabilities` and `get_coverage_description`.\n"
   ]
  },
  {
   "cell_type": "code",
   "execution_count": null,
   "metadata": {},
   "outputs": [],
   "source": [
    "# get all the capabilities of the model\n",
    "aro_capabilities = arome_client.get_capabilities()\n",
    "\n",
    "# select one run, the most recent for example\n",
    "most_recent_run_aro = pd.to_datetime(aro_capabilities[\"run\"].max(), format=\"%Y-%m-%dT%H.%M.%SZ\")\n",
    "\n",
    "# get the coverage description for this indicator and this run\n",
    "aro_cov_descr = arome_client.get_coverage_description(\n",
    "    indicator + \"___\" + most_recent_run_aro.strftime(\"%Y-%m-%dT%H.%M.%SZ\")\n",
    ")\n",
    "\n",
    "print(aro_cov_descr)"
   ]
  },
  {
   "cell_type": "markdown",
   "metadata": {},
   "source": [
    "### Fetch data using params of your choice"
   ]
  },
  {
   "cell_type": "code",
   "execution_count": null,
   "metadata": {},
   "outputs": [],
   "source": [
    "# Get for the AROME model, the forecast of Temperature at 2 meters for 24 first available forecast horizons\n",
    "df_arome = arome_client.get_coverage(\n",
    "    indicator=indicator,\n",
    "    interval=None,\n",
    "    forecast_horizons=aro_cov_descr[\"forecast_horizons\"],\n",
    "    heights=[2],\n",
    "    pressures=None,\n",
    "    long=(1.0, 1.5),\n",
    "    lat=(43, 43.5),\n",
    "    temp_dir=None,\n",
    ")\n",
    "print(df_arome.head())"
   ]
  },
  {
   "cell_type": "code",
   "execution_count": null,
   "metadata": {},
   "outputs": [],
   "source": [
    "# Same for PEAROME\n",
    "# get all the capabilities of the model\n",
    "pearo_capabilities = pearome_client.get_capabilities()\n",
    "\n",
    "# select one run, the most recent for example\n",
    "most_recent_run_pearo = pd.to_datetime(pearo_capabilities[\"run\"].max(), format=\"%Y-%m-%dT%H.%M.%SZ\")\n",
    "\n",
    "# get the coverage description for this indicator and this run\n",
    "pearo_cov_descr = pearome_client.get_coverage_description(\n",
    "    indicator + \"___\" + most_recent_run_pearo.strftime(\"%Y-%m-%dT%H.%M.%SZ\")\n",
    ")\n",
    "\n",
    "print(pearo_cov_descr)"
   ]
  },
  {
   "cell_type": "code",
   "execution_count": null,
   "metadata": {},
   "outputs": [],
   "source": [
    "# For the PEArome, get_coverage_description retrieve the description available for the member 0 by default.\n",
    "# However, it is possible to specify several members to compare the description of each member.\n",
    "# It can be useful when the forecast horizons are not all the same accross members\n",
    "# (it can happen when the model is being updated.)\n",
    "pearo_cov_descr_mult = pearome_client.get_coverage_description(\n",
    "    indicator + \"___\" + most_recent_run_pearo.strftime(\"%Y-%m-%dT%H.%M.%SZ\"), ensemble_numbers=[0, 1, 2]\n",
    ")\n",
    "\n",
    "print(pearo_cov_descr_mult)"
   ]
  },
  {
   "cell_type": "code",
   "execution_count": null,
   "metadata": {},
   "outputs": [],
   "source": [
    "# Get for the PEAROME model, the forecast of Temperature at 2 meters for 24 first available forecast horizons\n",
    "# For Ensemble models, the members (the numbers of each set of forecast) to retrieve must be specified\n",
    "# with the parameter ensemble_numbers (in this example, we retrieve the 5 first members).\n",
    "# PEAROME provides 25 members, from 0 to 24. Note that member 0 is the same as the AROME determinist model.\n",
    "df_pearome = pearome_client.get_coverage(\n",
    "    indicator=indicator,\n",
    "    interval=None,\n",
    "    forecast_horizons=pearo_cov_descr[\"forecast_horizons\"],\n",
    "    ensemble_numbers=range(5),\n",
    "    heights=[2],\n",
    "    pressures=None,\n",
    "    long=(1.0, 1.5),\n",
    "    lat=(43, 43.5),\n",
    "    temp_dir=None,\n",
    ")\n",
    "\n",
    "# Note that the resulting dataframe has a new column \"number\" identifying each member of the ensemble forecast.\n",
    "print(df_pearome.head())"
   ]
  },
  {
   "cell_type": "code",
   "execution_count": null,
   "metadata": {},
   "outputs": [],
   "source": [
    "# Illustration by plotting each member of the PEAROME model (thin lines),\n",
    "# along with the single forecast of AROME model (dotted line)\n",
    "# for a given location.\n",
    "lat = 43\n",
    "lon = 1\n",
    "\n",
    "df_arome_single_loc = df_arome.loc[\n",
    "    (df_arome[\"latitude\"].round(2) == lat) & (df_arome[\"longitude\"].round(2) == lon)\n",
    "].copy()\n",
    "df_arome_single_loc.index = df_arome_single_loc[\"run\"] + df_arome_single_loc[\"forecast_horizon\"]\n",
    "df_pearome_single_loc = df_pearome.loc[\n",
    "    (df_pearome[\"latitude\"].round(2) == lat) & (df_pearome[\"longitude\"].round(2) == lon)\n",
    "].copy()\n",
    "df_pearome_single_loc[\"validity_time\"] = df_pearome_single_loc[\"run\"] + df_pearome_single_loc[\"forecast_horizon\"]\n",
    "\n",
    "# reshape the result to have one column per member\n",
    "reshaped_df = df_pearome_single_loc.pivot(index=\"validity_time\", columns=\"ensemble_number\", values=\"t_2m\")\n",
    "reshaped_df.columns = [f\"PEAro_n_{int(col)}\" for col in reshaped_df.columns]\n",
    "\n",
    "reshaped_df.plot(linewidth=0.5)\n",
    "df_arome_single_loc[\"t_2m\"].plot(linewidth=2, linestyle=\"--\", label=\"Arome\")\n",
    "plt.legend()"
   ]
  }
 ],
 "metadata": {
  "kernelspec": {
   "display_name": "Python 3",
   "language": "python",
   "name": "python3"
  },
  "language_info": {
   "codemirror_mode": {
    "name": "ipython",
    "version": 3
   },
   "file_extension": ".py",
   "mimetype": "text/x-python",
   "name": "python",
   "nbconvert_exporter": "python",
   "pygments_lexer": "ipython3",
   "version": "3.9.1"
  },
  "toc": {
   "base_numbering": 1,
   "nav_menu": {},
   "number_sections": true,
   "sideBar": true,
   "skip_h1_title": false,
   "title_cell": "Table of Contents",
   "title_sidebar": "Contents",
   "toc_cell": false,
   "toc_position": {},
   "toc_section_display": true,
   "toc_window_display": false
  }
 },
 "nbformat": 4,
 "nbformat_minor": 2
}
